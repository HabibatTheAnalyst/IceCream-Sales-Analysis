
{
 "cells": [
  {
   "cell_type": "markdown",
   "id": "7bf4efef",
   "metadata": {},
   "source": [
    "***Hypothesis - increase in temperature affects IceCream sales and vice versa"
   ]
  },
  {
   "cell_type": "code",
   "execution_count": 1,
   "id": "b8ca7f6c",
   "metadata": {},
   "outputs": [],
   "source": [
    "import pandas as pd\n",
    "import numpy as np\n",
    "import matplotlib.pyplot as plt\n",
    "import seaborn as sns"
   ]
  },
  {
   "cell_type": "code",
   "execution_count": 2,
   "id": "52732531",
   "metadata": {},
   "outputs": [],
   "source": [
    "# load dataset\n",
    "IceCream = pd.read_csv(\"IceCreamData.csv\");"
   ]
  },
  {
   "cell_type": "code",
   "execution_count": 3,
   "id": "0b41e173",
   "metadata": {},
   "outputs": [
    {
     "data": {
      "text/plain": [
       "(500, 2)"
      ]
     },
     "execution_count": 3,
     "metadata": {},
     "output_type": "execute_result"
    }
   ],
   "source": [
    "# number of rows and columns\n",
    "IceCream.shape"
   ]
  },
  {
   "cell_type": "code",
   "execution_count": 4,
   "id": "46b0deeb",
   "metadata": {},
   "outputs": [
    {
     "data": {
      "text/html": [
       "<div>\n",
       "<style scoped>\n",
       "    .dataframe tbody tr th:only-of-type {\n",
       "        vertical-align: middle;\n",
       "    }\n",
       "\n",
       "    .dataframe tbody tr th {\n",
       "        vertical-align: top;\n",
       "    }\n",
       "\n",
       "    .dataframe thead th {\n",
       "        text-align: right;\n",
       "    }\n",
       "</style>\n",
       "<table border=\"1\" class=\"dataframe\">\n",
       "  <thead>\n",
       "    <tr style=\"text-align: right;\">\n",
       "      <th></th>\n",
       "      <th>Temperature</th>\n",
       "      <th>Revenue</th>\n",
       "    </tr>\n",
       "  </thead>\n",
       "  <tbody>\n",
       "    <tr>\n",
       "      <th>count</th>\n",
       "      <td>500.000000</td>\n",
       "      <td>500.000000</td>\n",
       "    </tr>\n",
       "    <tr>\n",
       "      <th>mean</th>\n",
       "      <td>22.232225</td>\n",
       "      <td>521.570777</td>\n",
       "    </tr>\n",
       "    <tr>\n",
       "      <th>std</th>\n",
       "      <td>8.096388</td>\n",
       "      <td>175.404751</td>\n",
       "    </tr>\n",
       "    <tr>\n",
       "      <th>min</th>\n",
       "      <td>0.000000</td>\n",
       "      <td>10.000000</td>\n",
       "    </tr>\n",
       "    <tr>\n",
       "      <th>25%</th>\n",
       "      <td>17.122258</td>\n",
       "      <td>405.558681</td>\n",
       "    </tr>\n",
       "    <tr>\n",
       "      <th>50%</th>\n",
       "      <td>22.392791</td>\n",
       "      <td>529.368565</td>\n",
       "    </tr>\n",
       "    <tr>\n",
       "      <th>75%</th>\n",
       "      <td>27.740674</td>\n",
       "      <td>642.257922</td>\n",
       "    </tr>\n",
       "    <tr>\n",
       "      <th>max</th>\n",
       "      <td>45.000000</td>\n",
       "      <td>1000.000000</td>\n",
       "    </tr>\n",
       "  </tbody>\n",
       "</table>\n",
       "</div>"
      ],
      "text/plain": [
       "       Temperature      Revenue\n",
       "count   500.000000   500.000000\n",
       "mean     22.232225   521.570777\n",
       "std       8.096388   175.404751\n",
       "min       0.000000    10.000000\n",
       "25%      17.122258   405.558681\n",
       "50%      22.392791   529.368565\n",
       "75%      27.740674   642.257922\n",
       "max      45.000000  1000.000000"
      ]
     },
     "execution_count": 4,
     "metadata": {},
     "output_type": "execute_result"
    }
   ],
   "source": [
    "# Summary of each column\n",
    "IceCream.describe()"
   ]
  },
  {
   "cell_type": "markdown",
   "id": "0a42c5a7",
   "metadata": {},
   "source": [
    "From the statistical analysis above, the values of standard deviation for temperature and revenue are lower than their mean values. Therefore, further analysis will show more accurate estimates(i.e more reliable analysis)"
   ]
  },
  {
   "cell_type": "code",
   "execution_count": 5,
   "id": "7fc02436",
   "metadata": {
    "scrolled": true
   },
   "outputs": [
    {
     "data": {
      "text/html": [
       "<div>\n",
       "<style scoped>\n",
       "    .dataframe tbody tr th:only-of-type {\n",
       "        vertical-align: middle;\n",
       "    }\n",
       "\n",
       "    .dataframe tbody tr th {\n",
       "        vertical-align: top;\n",
       "    }\n",
       "\n",
       "    .dataframe thead th {\n",
       "        text-align: right;\n",
       "    }\n",
       "</style>\n",
       "<table border=\"1\" class=\"dataframe\">\n",
       "  <thead>\n",
       "    <tr style=\"text-align: right;\">\n",
       "      <th></th>\n",
       "      <th>Temperature</th>\n",
       "      <th>Revenue</th>\n",
       "    </tr>\n",
       "  </thead>\n",
       "  <tbody>\n",
       "    <tr>\n",
       "      <th>0</th>\n",
       "      <td>24.57</td>\n",
       "      <td>535.0</td>\n",
       "    </tr>\n",
       "    <tr>\n",
       "      <th>1</th>\n",
       "      <td>26.01</td>\n",
       "      <td>625.0</td>\n",
       "    </tr>\n",
       "    <tr>\n",
       "      <th>2</th>\n",
       "      <td>27.79</td>\n",
       "      <td>661.0</td>\n",
       "    </tr>\n",
       "    <tr>\n",
       "      <th>3</th>\n",
       "      <td>20.60</td>\n",
       "      <td>488.0</td>\n",
       "    </tr>\n",
       "    <tr>\n",
       "      <th>4</th>\n",
       "      <td>11.50</td>\n",
       "      <td>316.0</td>\n",
       "    </tr>\n",
       "  </tbody>\n",
       "</table>\n",
       "</div>"
      ],
      "text/plain": [
       "   Temperature  Revenue\n",
       "0        24.57    535.0\n",
       "1        26.01    625.0\n",
       "2        27.79    661.0\n",
       "3        20.60    488.0\n",
       "4        11.50    316.0"
      ]
     },
     "execution_count": 5,
     "metadata": {},
     "output_type": "execute_result"
    }
   ],
   "source": [
    "# round variables and display top five rows\n",
    "IceCream['Revenue'] = IceCream['Revenue'].round();\n",
    "IceCream['Temperature'] = IceCream['Temperature'].round(decimals = 2);\n",
    "\n",
    "IceCream.head()"
   ]
  },
  {
   "cell_type": "code",
   "execution_count": 6,
   "id": "3cba981d",
   "metadata": {},
   "outputs": [
    {
     "data": {
      "image/png": "[encoded data removed]",
      "text/plain": [
       "<Figure size 432x288 with 1 Axes>"
      ]
     },
     "metadata": {
      "needs_background": "light"
     },
     "output_type": "display_data"
    }
   ],
   "source": [
    "# plot temperature against revenue\n",
    "plt.scatter(data = IceCream, x = 'Temperature', y = 'Revenue', color = 'black', marker = 'v', alpha = 0.3)\n",
    "plt.xlabel('Temperature', size = 16)\n",
    "plt.ylabel('Revenue', size = 16)\n",
    "plt.title('IceCream Sales', size = 16)\n",
    "plt.yticks([0, 200, 400, 600, 800, 1000], ['$0', '$200', '$400', '$600', '$800', '$1000'], size = 13)\n",
    "plt.xticks(size = 13)\n",
    "plt.show()"
   ]
  },
  {
   "cell_type": "markdown",
   "id": "2506e878",
   "metadata": {},
   "source": [
    "The plot above shows that increase in temperature positively affects Icecream sales and ultimately revenue. This further births the question; does temperature often affects icecream sales in the given dataset or this is just a random occurence?"
   ]
  },
  {
   "cell_type": "code",
   "execution_count": 7,
   "id": "7374aff8",
   "metadata": {},
   "outputs": [
    {
     "data": {
      "text/html": [
       "<div>\n",
       "<style scoped>\n",
       "    .dataframe tbody tr th:only-of-type {\n",
       "        vertical-align: middle;\n",
       "    }\n",
       "\n",
       "    .dataframe tbody tr th {\n",
       "        vertical-align: top;\n",
       "    }\n",
       "\n",
       "    .dataframe thead th {\n",
       "        text-align: right;\n",
       "    }\n",
       "</style>\n",
       "<table border=\"1\" class=\"dataframe\">\n",
       "  <thead>\n",
       "    <tr style=\"text-align: right;\">\n",
       "      <th></th>\n",
       "      <th>Temperature</th>\n",
       "      <th>Revenue</th>\n",
       "    </tr>\n",
       "  </thead>\n",
       "  <tbody>\n",
       "    <tr>\n",
       "      <th>Temperature</th>\n",
       "      <td>1.000000</td>\n",
       "      <td>0.989797</td>\n",
       "    </tr>\n",
       "    <tr>\n",
       "      <th>Revenue</th>\n",
       "      <td>0.989797</td>\n",
       "      <td>1.000000</td>\n",
       "    </tr>\n",
       "  </tbody>\n",
       "</table>\n",
       "</div>"
      ],
      "text/plain": [
       "             Temperature   Revenue\n",
       "Temperature     1.000000  0.989797\n",
       "Revenue         0.989797  1.000000"
      ]
     },
     "execution_count": 7,
     "metadata": {},
     "output_type": "execute_result"
    }
   ],
   "source": [
    "# correlation between the two variables\n",
    "IceCream.corr()"
   ]
  },
  {
   "cell_type": "markdown",
   "id": "c845a0de",
   "metadata": {},
   "source": [
    "The correlation values derived between temperature and revenue are closer to one. Hence, temperature and revenue are highly correlated with a correlation value of approximatelly 0.99."
   ]
  },
  {
   "cell_type": "code",
   "execution_count": 8,
   "id": "acb50260",
   "metadata": {},
   "outputs": [
    {
     "data": {
      "text/plain": [
       "<seaborn.axisgrid.PairGrid at 0x1155754a140>"
      ]
     },
     "execution_count": 8,
     "metadata": {},
     "output_type": "execute_result"
    },
    {
     "data": {
      "image/png": "[encoded data removed]",
      "text/plain": [
       "<Figure size 360x360 with 6 Axes>"
      ]
     },
     "metadata": {
      "needs_background": "light"
     },
     "output_type": "display_data"
    }
   ],
   "source": [
    "# temperaure and revenue correlation charts\n",
    "sns.pairplot(IceCream)"
   ]
  },
  {
   "cell_type": "markdown",
   "id": "ac3d0601",
   "metadata": {},
   "source": [
    "The correlation determined in tabular format above was transformed into charts plots which better shows how linearly correlated the two variables are. Which further stresses that changes in revenue is associated with canges in temperature."
   ]
  },
  {
   "cell_type": "code",
   "execution_count": 9,
   "id": "907e66d0",
   "metadata": {},
   "outputs": [
    {
     "name": "stdout",
     "output_type": "stream",
     "text": [
      "0.99\n",
      "0.0\n"
     ]
    }
   ],
   "source": [
    "# p-value\n",
    "from scipy import stats\n",
    "\n",
    "r, p = stats.pearsonr(IceCream.Temperature, IceCream.Revenue)\n",
    "print(round(r, 3))\n",
    "print(p)"
   ]
  },
  {
   "cell_type": "markdown",
   "id": "34786cdb",
   "metadata": {},
   "source": [
    "P-value is equal to zero (0.0) which is less than 0.05. Saying the p-value is 0% means our reults have a 0% chance of being attributed to random coincidence."
   ]
  },
  {
   "cell_type": "markdown",
   "id": "9ae997f5",
   "metadata": {},
   "source": [
    "From all the statistial results I could conclude that the data at hand supports my hypothesis. Therefore, there is a relationship between temperature and revenue and the increase in revenue is not due to randomness.\n",
    "***I accept the null hypothesis thereby rejecting the alternative hypothesis"
   ]
  }
 ],
 "metadata": {
  "kernelspec": {
   "display_name": "Python 3 (ipykernel)",
   "language": "python",
   "name": "python3"
  },
  "language_info": {
   "codemirror_mode": {
    "name": "ipython",
    "version": 3
   },
   "file_extension": ".py",
   "mimetype": "text/x-python",
   "name": "python",
   "nbconvert_exporter": "python",
   "pygments_lexer": "ipython3",
   "version": "3.10.4"
  }
 },
 "nbformat": 4,
 "nbformat_minor": 5
}
